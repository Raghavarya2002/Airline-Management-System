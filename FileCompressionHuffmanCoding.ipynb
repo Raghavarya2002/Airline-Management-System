{
  "nbformat": 4,
  "nbformat_minor": 0,
  "metadata": {
    "colab": {
      "name": "FileCompressionHuffmanCoding.ipynb",
      "provenance": [],
      "collapsed_sections": [],
      "authorship_tag": "ABX9TyM1poUh3+CNM+IwHj5oWndU",
      "include_colab_link": true
    },
    "kernelspec": {
      "name": "python3",
      "display_name": "Python 3"
    },
    "language_info": {
      "name": "python"
    }
  },
  "cells": [
    {
      "cell_type": "markdown",
      "metadata": {
        "id": "view-in-github",
        "colab_type": "text"
      },
      "source": [
        "<a href=\"https://colab.research.google.com/github/Raghavarya2002/Airline-Management-System/blob/main/FileCompressionHuffmanCoding.ipynb\" target=\"_parent\"><img src=\"https://colab.research.google.com/assets/colab-badge.svg\" alt=\"Open In Colab\"/></a>"
      ]
    },
    {
      "cell_type": "code",
      "execution_count": null,
      "metadata": {
        "id": "SYveutrWHE7o"
      },
      "outputs": [],
      "source": [
        "import heapq #default inbuild heap\n",
        "\n",
        "class BinaryTree:\n",
        "  def __init__(self,value,freq):\n",
        "    self.value = value\n",
        "    self.freq = freq\n",
        "    self.left = None\n",
        "    self.right = None\n",
        "\n",
        "class Huffmancode:\n",
        "\n",
        "  def __init__(self,path) #path of the file\n",
        "      self.path = path\n",
        "      self.__heap = []\n",
        "\n",
        "  def __leftfunc__(self,other):\n",
        "    return self.frequency < other.frequency #checking & comparing on frequency and elemnet have min freq we're picking up that\n",
        "  \n",
        "  def __equalfunc__(self,other):\n",
        "    return self.frequency == other.frequency\n",
        "\n",
        "  def __frequency_from_text(self,text):\n",
        "      freq_dict = {}\n",
        "      for char in text:\n",
        "        if char not in freq_dict:\n",
        "          freq_dict[char] = 0\n",
        "        freq_dict[char] += 1\n",
        "      return freq_dict  \n",
        "\n",
        "\n",
        "\n",
        "\n",
        "  def __Build_heap(self,frequency_dict):\n",
        "      for key in frequency_dict\n",
        "\n",
        "      frequency = frequency_dict[key]\n",
        "      binary_tree_node = BinaryTree(key,frequency)\n",
        "      heapq.push(self.__heap,binary_tree_node)\n",
        "\n",
        "  def compression(self):\n",
        "\n",
        "    #To access the file and extarct text from that file\n",
        "\n",
        "\n",
        "    text = 'fbvjbvjbjcjdjsdnjdsjdsjsfjn'\n",
        "    frequency_dict = self.__frequency_from_text(text)\n",
        "\n",
        "    #calculate frequency of each text and store in the frequency dicionary\n",
        "\n",
        "    build_heap = self.__Build_heap(frequency_dict)\n",
        "\n",
        "\n",
        "    #we need minimum 2characters having minimum frequency , so we have to construct a min heap\n",
        "    #Min heap for two minimum frequency\n",
        "    #so after this we've to create the binary tree using the heap\n",
        "    #with the hellp of binary tree , we've to construct the code and code will store in the heap or you can say hashmap or dictionary\n",
        "    #construct the encoded text.\n",
        "    #we have to return that binary file as output containing encoded text which is given by compression function"
      ]
    }
  ]
}